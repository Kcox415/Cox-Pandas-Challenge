{
 "cells": [
  {
   "cell_type": "code",
   "execution_count": null,
   "metadata": {},
   "outputs": [],
   "source": [
    "# Import Dependencies\n",
    "import pandas as pd\n",
    "import numpy as np"
   ]
  },
  {
   "cell_type": "code",
   "execution_count": null,
   "metadata": {},
   "outputs": [],
   "source": [
    "# Load and Read File\n",
    "file = \"Resources/purchase_data.csv\"\n",
    "original_df = pd.read_csv(file)\n",
    "original_df.head()"
   ]
  },
  {
   "cell_type": "code",
   "execution_count": null,
   "metadata": {},
   "outputs": [],
   "source": [
    "# Determine the number of players\n",
    "num_players = original_df[\"SN\"].nunique()\n",
    "pd.DataFrame({\"Total Players\":[num_players]})"
   ]
  },
  {
   "cell_type": "code",
   "execution_count": null,
   "metadata": {},
   "outputs": [],
   "source": [
    "# Define Total Puchasing Metrics\n",
    "num_unique_items = original_df[\"Item ID\"].nunique()\n",
    "average_price = original_df[\"Price\"].mean()\n",
    "num_of_purchases = original_df[\"Purchase ID\"].nunique()\n",
    "total_revenue = original_df[\"Price\"].sum()\n",
    "pd.DataFrame({\"Number of Unique Items\":[num_unique_items],\n",
    "             \"Average Purchase Price\":[\"$\"+str(round(average_price,2))],\n",
    "             \"Number of Purchases\":[num_of_purchases],\n",
    "             \"Total Revenue\":[\"$\"+'{0:,.2f}'.format(total_revenue)]})"
   ]
  },
  {
   "cell_type": "code",
   "execution_count": null,
   "metadata": {},
   "outputs": [],
   "source": [
    "# Remove Duplicates from the Data\n",
    "original_df_no_duplicates = original_df.drop_duplicates([\"SN\"])\n",
    "\n",
    "# Define Gender Demographics\n",
    "total_genders = pd.DataFrame(original_df_no_duplicates[\"Gender\"].value_counts())\n",
    "percent_genders = round((total_genders/num_players)*100,2)\n",
    "\n",
    "# Combine Gender Demographics\n",
    "summary_genders = pd.concat([total_genders,percent_genders],axis=1)\n",
    "\n",
    "# Create Gender Demographics Table \n",
    "summary_genders.columns = [\"Total Number\", \"Percentage of Players\"]\n",
    "\n",
    "# Print Table\n",
    "summary_genders"
   ]
  },
  {
   "cell_type": "code",
   "execution_count": null,
   "metadata": {},
   "outputs": [],
   "source": [
    "# Define Gender Purchase Metrics\n",
    "purchase_count = original_df.groupby([\"Gender\"]).count()[\"Purchase ID\"]\n",
    "avg_purchase_price = round(original_df.groupby([\"Gender\"]).mean()[\"Price\"],2)\n",
    "total_purchase_value = round(original_df.groupby([\"Gender\"]).sum()[\"Price\"],2)\n",
    "avg_purchase_total_per_person = round(total_purchase_value/original_df_no_duplicates.groupby([\"Gender\"]).count()[\"Purchase ID\"],2)\n",
    "\n",
    "# Combine Gender Purchase Metrics\n",
    "summary_gender_purch_analysis = pd.concat([purchase_count,avg_purchase_price,total_purchase_value,avg_purchase_total_per_person],axis=1)\n",
    "\n",
    "# Create Gender Purchase Table Columns\n",
    "summary_gender_purch_analysis.columns = [\"Purchase Count\",\"Average Purchase Price\",\"Total Purchase Value\",\"Average Purchase Total per Person by Gender\"]\n",
    "\n",
    "# Format Gender Purchase Table\n",
    "summary_gender_purch_analysis[\"Average Purchase Price\"] = summary_gender_purch_analysis[\"Average Purchase Price\"].map(\"${:.2f}\".format)\n",
    "summary_gender_purch_analysis[\"Total Purchase Value\"] = summary_gender_purch_analysis[\"Total Purchase Value\"].map(\"${:.2f}\".format)\n",
    "summary_gender_purch_analysis[\"Average Purchase Total per Person by Gender\"] = summary_gender_purch_analysis[\"Average Purchase Total per Person by Gender\"].map(\"${:.2f}\".format)\n",
    "\n",
    "# Print Table\n",
    "summary_gender_purch_analysis"
   ]
  },
  {
   "cell_type": "code",
   "execution_count": null,
   "metadata": {},
   "outputs": [],
   "source": [
    "# Define Age Demographic Bins\n",
    "age_bins = [0, 9.90, 14.90, 19.90, 24.90, 29.90, 34.90, 39.90, 9999]\n",
    "bin_names = [\"<10\", \"10-14\", \"15-19\", \"20-24\", \"25-29\", \"30-34\", \"35-39\", \"40+\"]\n",
    "\n",
    "# Separate Players into Age Bins\n",
    "original_df_no_duplicates[\"Age Ranges\"] = pd.cut(original_df_no_duplicates[\"Age\"],age_bins,labels=bin_names)\n",
    "\n",
    "# Define Age Demographics\n",
    "total_age = pd.DataFrame(original_df_no_duplicates[\"Age Ranges\"].value_counts())\n",
    "percent_age = round((total_age/num_players)*100,2)\n",
    "\n",
    "# Combine Age Demographics\n",
    "summary_age = pd.concat([total_age,percent_age],axis=1)\n",
    "\n",
    "# Creating Table Columns\n",
    "summary_age.columns = [\"Total Number\", \"Percentage of Players\"]\n",
    "\n",
    "# Print Table Sorted by Age Bins \n",
    "summary_age.sort_index()\n"
   ]
  },
  {
   "cell_type": "code",
   "execution_count": null,
   "metadata": {},
   "outputs": [],
   "source": [
    "# Define Age Purchase Metrics\n",
    "original_df[\"Age Ranges\"] = pd.cut(original_df[\"Age\"],age_bins,labels=bin_names)\n",
    "avg_age = original_df.groupby([\"Age Ranges\"]).mean()[\"Price\"].rename(\"Average Purchase Price\")\n",
    "age_purchase_total = original_df.groupby([\"Age Ranges\"]).sum()[\"Price\"].rename(\"Total Purchase Value\")\n",
    "age_count = original_df.groupby([\"Age Ranges\"]).count()[\"Price\"].rename(\"Purchase Count\")\n",
    "age_purchase_total_per_person = round(age_purchase_total/original_df_no_duplicates.groupby([\"Age Ranges\"]).count()[\"Purchase ID\"],2)\n",
    "\n",
    "# Create Age Purchase Table\n",
    "age_data = pd.DataFrame({\"Purchase Count\": age_count, \"Average Purchase Price\": avg_age, \"Total Purchase Value\": age_purchase_total, \"Average Purchase Total Per Person\": age_purchase_total_per_person}\n",
    "    )\n",
    "\n",
    "# Format Age Purchase Table\n",
    "age_data[\"Average Purchase Price\"] = age_data[\"Average Purchase Price\"].map(\"${:,.2f}\".format)\n",
    "age_data[\"Total Purchase Value\"] = age_data[\"Total Purchase Value\"].map(\"${:,.2f}\".format)\n",
    "age_data [\"Purchase Count\"] = age_data[\"Purchase Count\"].map(\"{:,}\".format)\n",
    "age_data[\"Average Purchase Total Per Person\"] = age_data[\"Average Purchase Total Per Person\"].map(\"${:,.2f}\".format)\n",
    "\n",
    "# Print Table\n",
    "age_data "
   ]
  },
  {
   "cell_type": "code",
   "execution_count": null,
   "metadata": {},
   "outputs": [],
   "source": [
    "# Calculate Top Spenders\n",
    "user_total = original_df.groupby([\"SN\"]).sum()[\"Price\"].rename(\"Total Purchase Value\")\n",
    "user_average = original_df.groupby([\"SN\"]).mean()[\"Price\"].rename(\"Average Purchase Price\")\n",
    "user_count = original_df.groupby([\"SN\"]).count()[\"Price\"].rename(\"Purchase Count\")\n",
    "\n",
    "# Create Top Spender Table\n",
    "user_data = pd.DataFrame({\"Purchase Count\": user_count,\"Average Purchase Price\": user_average, \"Total Purchase Value\": user_total})\n",
    "\n",
    "# Sort Table by Top 5\n",
    "summary_top_spenders=user_data.sort_values(\"Total Purchase Value\", ascending=False).head(5)\n",
    "\n",
    "# Format Table\n",
    "summary_top_spenders[\"Average Purchase Price\"] = user_data[\"Average Purchase Price\"].map(\"${:,.2f}\".format)\n",
    "summary_top_spenders[\"Total Purchase Value\"] = user_data[\"Total Purchase Value\"].map(\"${:,.2f}\".format)\n",
    "\n",
    "# Print Table\n",
    "summary_top_spenders"
   ]
  },
  {
   "cell_type": "code",
   "execution_count": null,
   "metadata": {},
   "outputs": [],
   "source": [
    "# Extract Data from File\n",
    "item_data = original_df.loc[:,[\"Item ID\", \"Item Name\", \"Price\"]]\n",
    "\n",
    "# Calculate Most Popular Items\n",
    "total_item_purchase = item_data.groupby([\"Item ID\",\"Item Name\"]).sum()[\"Price\"].rename(\"Total Purchase Value\")\n",
    "average_item_purchase = item_data.groupby([\"Item ID\",\"Item Name\"]).mean()[\"Price\"]\n",
    "item_count = item_data.groupby([\"Item ID\",\"Item Name\"]).count()[\"Price\"].rename(\"Purchase Count\")\n",
    "\n",
    "# Display Table\n",
    "item_data_pd = pd.DataFrame({\"Total Purchase Value\": total_item_purchase, \"Item Price\": average_item_purchase, \"Purchase Count\": item_count})\n",
    "item_data_pd = item_data_pd.loc[:,[\"Purchase Count\", \"Item Price\", \"Total Purchase Value\"]]\n",
    "display_popular_item = item_data_pd.sort_values(\"Purchase Count\", ascending=False).head(5)\n",
    "\n",
    "# Format Table\n",
    "display_popular_item[\"Item Price\"] = item_data_pd[\"Item Price\"].map(\"${:,.2f}\".format)\n",
    "display_popular_item[\"Purchase Count\"] = item_data_pd[\"Purchase Count\"].map(\"{:,}\".format)\n",
    "display_popular_item[\"Total Purchase Value\"] = item_data_pd[\"Total Purchase Value\"].map(\"${:,.2f}\".format)\n",
    "summary_most_pop_items = display_popular_item.loc[:,[\"Purchase Count\", \"Item Price\", \"Total Purchase Value\"]]\n",
    "\n",
    "# Print Table\n",
    "summary_most_pop_items"
   ]
  },
  {
   "cell_type": "code",
   "execution_count": null,
   "metadata": {},
   "outputs": [],
   "source": [
    "# Sort Table by Total Purchase Value\n",
    "display_profitable_item = item_data_pd.sort_values(\"Total Purchase Value\", ascending=False).head(5)\n",
    "\n",
    "# Format Table\n",
    "display_profitable_item[\"Item Price\"] = item_data_pd[\"Item Price\"].map(\"${:,.2f}\".format)\n",
    "display_profitable_item[\"Purchase Count\"] = item_data_pd[\"Purchase Count\"].map(\"{:,}\".format)\n",
    "display_profitable_item[\"Total Purchase Value\"] = item_data_pd[\"Total Purchase Value\"].map(\"${:,.2f}\".format)\n",
    "summary_most_profitable_items = display_profitable_item.loc[:,[\"Purchase Count\", \"Item Price\", \"Total Purchase Value\"]]\n",
    "\n",
    "# Print Tables\n",
    "summary_most_profitable_items"
   ]
  },
  {
   "cell_type": "code",
   "execution_count": null,
   "metadata": {},
   "outputs": [],
   "source": []
  },
  {
   "cell_type": "code",
   "execution_count": null,
   "metadata": {},
   "outputs": [],
   "source": []
  }
 ],
 "metadata": {
  "kernelspec": {
   "display_name": "Python 3",
   "language": "python",
   "name": "python3"
  },
  "language_info": {
   "codemirror_mode": {
    "name": "ipython",
    "version": 3
   },
   "file_extension": ".py",
   "mimetype": "text/x-python",
   "name": "python",
   "nbconvert_exporter": "python",
   "pygments_lexer": "ipython3",
   "version": "3.7.6"
  }
 },
 "nbformat": 4,
 "nbformat_minor": 4
}
